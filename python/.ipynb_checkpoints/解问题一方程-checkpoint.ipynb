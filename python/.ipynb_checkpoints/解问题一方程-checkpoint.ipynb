{
 "cells": [
  {
   "cell_type": "code",
   "execution_count": 2,
   "metadata": {
    "ExecuteTime": {
     "end_time": "2024-08-13T01:41:43.602811Z",
     "start_time": "2024-08-13T01:41:42.962844Z"
    }
   },
   "outputs": [
    {
     "name": "stdout",
     "output_type": "stream",
     "text": [
      "1.0⋅F_锚x + 180.0⋅h = 360.0\n",
      "0.0868589743589744⋅L - 32201.3246992954⋅h = -22594.9668825176\n",
      "1.0⋅F_管x + 180.0⋅h = 360.0\n",
      "1.0⋅F_管y - 32201.3246992954⋅h = -10000.0\n",
      "1.0⋅F_管y - 0.0868589743589744⋅L = 12594.9668825176\n",
      "F_管x = F_锚x\n"
     ]
    },
    {
     "ename": "TypeError",
     "evalue": "ZMQDisplayPublisher.publish() got an unexpected keyword argument 'sep'",
     "output_type": "error",
     "traceback": [
      "\u001b[1;31m---------------------------------------------------------------------------\u001b[0m",
      "\u001b[1;31mTypeError\u001b[0m                                 Traceback (most recent call last)",
      "Cell \u001b[1;32mIn[2], line 72\u001b[0m\n\u001b[0;32m     70\u001b[0m \u001b[38;5;66;03m# 输出解\u001b[39;00m\n\u001b[0;32m     71\u001b[0m \u001b[38;5;28;01mfor\u001b[39;00m name,s \u001b[38;5;129;01min\u001b[39;00m sol\u001b[38;5;241m.\u001b[39mpop()\u001b[38;5;241m.\u001b[39mitems():\n\u001b[1;32m---> 72\u001b[0m     \u001b[43mdisplay\u001b[49m\u001b[43m(\u001b[49m\u001b[43mname\u001b[49m\u001b[43m,\u001b[49m\u001b[38;5;124;43m'\u001b[39;49m\u001b[38;5;124;43m:\u001b[39;49m\u001b[38;5;124;43m'\u001b[39;49m\u001b[43m,\u001b[49m\u001b[43ms\u001b[49m\u001b[43m,\u001b[49m\u001b[43msep\u001b[49m\u001b[38;5;241;43m=\u001b[39;49m\u001b[38;5;124;43m\"\u001b[39;49m\u001b[38;5;124;43m\"\u001b[39;49m\u001b[43m)\u001b[49m\n\u001b[0;32m     73\u001b[0m sol\n",
      "File \u001b[1;32m~\\.conda\\envs\\jianmo\\lib\\site-packages\\IPython\\core\\display_functions.py:305\u001b[0m, in \u001b[0;36mdisplay\u001b[1;34m(include, exclude, metadata, transient, display_id, raw, clear, *objs, **kwargs)\u001b[0m\n\u001b[0;32m    302\u001b[0m         \u001b[38;5;28;01mif\u001b[39;00m metadata:\n\u001b[0;32m    303\u001b[0m             \u001b[38;5;66;03m# kwarg-specified metadata gets precedence\u001b[39;00m\n\u001b[0;32m    304\u001b[0m             _merge(md_dict, metadata)\n\u001b[1;32m--> 305\u001b[0m         publish_display_data(data\u001b[38;5;241m=\u001b[39mformat_dict, metadata\u001b[38;5;241m=\u001b[39mmd_dict, \u001b[38;5;241m*\u001b[39m\u001b[38;5;241m*\u001b[39mkwargs)\n\u001b[0;32m    306\u001b[0m \u001b[38;5;28;01mif\u001b[39;00m display_id:\n\u001b[0;32m    307\u001b[0m     \u001b[38;5;28;01mreturn\u001b[39;00m DisplayHandle(display_id)\n",
      "File \u001b[1;32m~\\.conda\\envs\\jianmo\\lib\\site-packages\\IPython\\core\\display_functions.py:93\u001b[0m, in \u001b[0;36mpublish_display_data\u001b[1;34m(data, metadata, source, transient, **kwargs)\u001b[0m\n\u001b[0;32m     90\u001b[0m \u001b[38;5;28;01mif\u001b[39;00m transient:\n\u001b[0;32m     91\u001b[0m     kwargs[\u001b[38;5;124m'\u001b[39m\u001b[38;5;124mtransient\u001b[39m\u001b[38;5;124m'\u001b[39m] \u001b[38;5;241m=\u001b[39m transient\n\u001b[1;32m---> 93\u001b[0m display_pub\u001b[38;5;241m.\u001b[39mpublish(\n\u001b[0;32m     94\u001b[0m     data\u001b[38;5;241m=\u001b[39mdata,\n\u001b[0;32m     95\u001b[0m     metadata\u001b[38;5;241m=\u001b[39mmetadata,\n\u001b[0;32m     96\u001b[0m     \u001b[38;5;241m*\u001b[39m\u001b[38;5;241m*\u001b[39mkwargs\n\u001b[0;32m     97\u001b[0m )\n",
      "\u001b[1;31mTypeError\u001b[0m: ZMQDisplayPublisher.publish() got an unexpected keyword argument 'sep'"
     ]
    }
   ],
   "source": [
    "# 用sympy求解方程组\n",
    "import sympy as sp\n",
    "# from sympy import pi\n",
    "from numpy import pi\n",
    "\n",
    "\n",
    "# 定义参数\n",
    "\n",
    "v   = 12    # 风速 m/s\n",
    "m_标 = 1000 # 浮标的质量 kg\n",
    "m_球 = 1200   # 球的质量 kg\n",
    "V_球 = 0    # 球的体积 m^3 TODO: 暂时忽略\n",
    "# L = 22.05      # 锚链长度 m\n",
    "\n",
    "L = sp.Symbol('L', real=True) # 锚链长度 m\n",
    "\n",
    "delta = 0.01 # 锚链的线密度 m\n",
    "m_链 = L * delta # 锚链的质量 kg\n",
    "rho_钢 = 7800 # 钢的密度 kg/m^3\n",
    "V_链 = m_链 / rho_钢 # 锚链的体积 m^3\n",
    "\n",
    "\n",
    "M   = 1140 + m_球 + m_链   # 总质量 kg\n",
    "g   = 10  # 重力加速度 m/s^2\n",
    "rho = 1025  # 海水密度 kg/m^3\n",
    "V_没 = 0.025*pi + V_链 + V_球   # 没在水下的体积 m\n",
    "m_没 = M - m_标    # 没在水下的质量 kg\n",
    "\n",
    "# 定义变量都为实数\n",
    "h    = sp.Symbol('h', real=True) # 吃水深度\n",
    "F_锚x = sp.Symbol('F_锚x', real=True) # 锚力的x方向分量\n",
    "# F_锚y = sp.Symbol('F_锚y', real=True) # 锚力的y方向分量\n",
    "\n",
    "F_锚y = 0 # 锚力的y方向分量\n",
    "\n",
    "# beta = sp.Symbol('beta') # 锚力与水平方向的夹角\n",
    "F_管x = sp.Symbol('F_管x', real=True) # 钢管对浮漂的x方向分量\n",
    "F_管y = sp.Symbol('F_管y', real=True) # 钢管对浮漂的y方向分量\n",
    "# gamma = sp.Symbol('gamma') # F_管 与水平方向的夹角\n",
    "\n",
    "F_风 = lambda h: 0.625 * 2 * (2 - h) * v**2  # 风力\n",
    "F_浮 = lambda V: rho * g * V  # 浮力\n",
    "\n",
    "\n",
    "# 定义方程\n",
    "eq1 = sp.Eq(F_风(h),F_锚x)\n",
    "eq2 = sp.Eq(F_锚y + M*g, F_浮(h*pi + V_没))\n",
    "\n",
    "eq3 = sp.Eq(F_风(h), F_管x)\n",
    "eq4 = sp.Eq(F_管y +  m_标*g ,F_浮(pi*h))\n",
    "\n",
    "eq5 = sp.Eq(F_浮(V_没)+F_管y, m_没*g + F_锚y)\n",
    "eq6 = sp.Eq(F_管x, F_锚x)\n",
    "\n",
    "eqs = [eq1,eq2,eq3,eq4,eq5,eq6]\n",
    "\n",
    "# 解方程组 忽略复数解\n",
    "# sp.init_printing(use_unicode=True)\n",
    "\n",
    "# 化简方程组\n",
    "eqs_simp = [sp.simplify(eq) for eq in eqs]\n",
    "# 输出方程组, 并使用unicode,每个方程占一行\n",
    "for eq in eqs_simp:\n",
    "    sp.pprint(eq)\n",
    "\n",
    "\n",
    "# 解方程组\n",
    "sol = sp.solve(eqs, (h,F_锚x,F_管x,F_管y,L),dict=True, simplify=True)\n",
    "\n",
    "# 输出解\n",
    "for name,s in sol.pop().items():\n",
    "    # display(name,':',s,sep=\"\")\n",
    "sol\n",
    "\n"
   ]
  },
  {
   "cell_type": "code",
   "execution_count": null,
   "metadata": {},
   "outputs": [],
   "source": []
  }
 ],
 "metadata": {
  "kernelspec": {
   "display_name": "Python 3 (ipykernel)",
   "language": "python",
   "name": "python3"
  },
  "language_info": {
   "codemirror_mode": {
    "name": "ipython",
    "version": 3
   },
   "file_extension": ".py",
   "mimetype": "text/x-python",
   "name": "python",
   "nbconvert_exporter": "python",
   "pygments_lexer": "ipython3",
   "version": "3.10.14"
  }
 },
 "nbformat": 4,
 "nbformat_minor": 4
}
