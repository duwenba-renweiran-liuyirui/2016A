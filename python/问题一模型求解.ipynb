{
 "cells": [
  {
   "cell_type": "code",
   "execution_count": 118,
   "metadata": {},
   "outputs": [],
   "source": [
    "import sympy as sp\n",
    "import numpy as np\n",
    "import matplotlib.pyplot as plt\n",
    "\n",
    "# 设置中文显示\n",
    "plt.rcParams['font.sans-serif'] = ['SimHei']  # 用来正常显示中文标签\n",
    "plt.rcParams['axes.unicode_minus'] = False  # 用来正常显示负号\n"
   ]
  },
  {
   "cell_type": "code",
   "execution_count": 119,
   "metadata": {},
   "outputs": [],
   "source": [
    "# define constants and variables\n",
    "\n",
    "# =============================constants=================\n",
    "\n",
    "pi = np.pi\n",
    "\n",
    "D = 2  # 浮标直径\n",
    "r = 0.5 * D  # 浮标半径\n",
    "v = 24 # ! 风速\n",
    "H = 18 # ! 海平面高度\n",
    "\n",
    "rho = 1025 # 海水密度\n",
    "rho钢 = 7850 # 钢材密度\n",
    "g = 9.81 # 重力加速度\n",
    "\n",
    "m钢管 = 10 # 钢管的质量\n",
    "m钢桶 = 100 # 钢桶的质量\n",
    "m球  = 1200 # ! 求的质量\n",
    "m浮标 = 1000 \n",
    "\n",
    "L链 = 20.05 #! 锚链总长度\n",
    "l = 105 * 10**(-3) #! 锚链单个链环的长度\n",
    "delta = 7 # 锚链线密度\n",
    "nMax = np.int64(  np.floor( L链 / l ) )# 锚链的数量\n",
    "\n",
    "# 每个物体收到的浮力和重力\n",
    "class mList : \n",
    "    \"\"\"自定义列表类，并不存储数据，只通过getitem方法返回对应的值\"\"\"\n",
    "    def __init__(self, getitem: callable):\n",
    "        self.getitem = getitem\n",
    "    \n",
    "    def __getitem__(self, index):\n",
    "        return self.getitem(index)\n",
    "# 各部分的重力\n",
    "def G_func(index):\n",
    "    if 0 <= index < 4: # [0, 1, 2, 3] => 逻辑位序 [ 1, 2, 3, 4 ] \n",
    "        return m钢管 * g\n",
    "    elif index ==  4: # * 4 => 钢桶\n",
    "        return m钢桶 * g\n",
    "    else: # * 锚链\n",
    "        return delta * l * g\n",
    "\n",
    "G = mList(G_func)\n",
    "\n",
    "def F浮_func(index):\n",
    "    if 0 <= index < 4: # 钢管 d=0.05m h=1m\n",
    "        return (0.05 / 2)**2 * pi * 1 * rho * g\n",
    "    elif index == 4: # 钢桶 d=0.3m h=1m\n",
    "        return ( 0.3 / 2)**2 * pi * 1 * rho * g\n",
    "    else: # 锚链 \n",
    "        return l*delta / rho钢 * rho * g\n",
    "    \n",
    "F浮 = mList(F浮_func)\n",
    "\n",
    "def L_func(index):\n",
    "    if 0 <= index < 4: # 钢管\n",
    "        return 1\n",
    "    elif index == 4: # 钢桶\n",
    "        return 1\n",
    "    else: # 锚链\n",
    "        return l\n",
    "\n",
    "L = mList(L_func)\n",
    "\n",
    "# =======================================\n",
    "\n",
    "# 自定义 可调用对象类\n",
    "\n",
    "\n",
    "class HObject:\n",
    "    def __init__(self):\n",
    "\n",
    "        self.dh = []\n",
    "        self.Tcos = []\n",
    "        self.Tsin = []\n",
    "        # * 计算phi角度\n",
    "\n",
    "    def clear(self):\n",
    "        self.dh = []\n",
    "        self.Tcos = []\n",
    "        self.Tsin = []\n",
    "\n",
    "    # @staticmethod\n",
    "    def phi(self, index):\n",
    "        ans = np.arctan( (2*self.Tsin[index] - (G[index] - F浮[index])) / (2*self.Tcos[index])  )\n",
    "        if ans < 0:\n",
    "            return 0\n",
    "        else:\n",
    "            return ans  \n",
    "\n",
    "\n",
    "\n",
    "    def __call__(self, h):\n",
    "        \n",
    "        self.clear() # ! 清空数据\n",
    "        # ? [0, 1, 2, 3] => 逻辑位序 [ 1, 2, 3, 4 ]  钢管\n",
    "        # ? 4 => 5 桶\n",
    "        # ? [5, ..., nMax+5-1] => 锚链\n",
    "\n",
    "        # ? i = 0 => 第一段钢管\n",
    "        self.Tcos.append( 0.625 * D * (2 - h) * v**2 )\n",
    "        self.Tsin.append( rho * g * pi * r**2 * h - m浮标 * g)\n",
    "        #? [1, 2, 3, 4] => 钢管和桶\n",
    "        for i in range(1, 5): \n",
    "            # ! Tcos[i+1] = Tcos[i] \n",
    "            self.Tcos.append( self.Tcos[i-1] )\n",
    "            # ! Tsin[i+1] = Tsin[i] - G[i] + F浮[i]\n",
    "            self.Tsin.append( self.Tsin[i-1] - G[i] + F浮[i] )\n",
    "        # ? 5 第一段锚链\n",
    "        self.Tcos.append( self.Tcos[4] )\n",
    "        self.Tsin.append( self.Tsin[4] - (m球*g - m球/rho钢*g*rho) - (G[4] - F浮[4]))\n",
    "\n",
    "\n",
    "        # ! 钢管和桶 以及第一节锚链 [0, 1, 2, 3, 4, 5]\n",
    "        for i in range(6):\n",
    "            self.dh.append(L[i] * np.sin(self.phi(i)))\n",
    "            # display(dh[i])\n",
    "\n",
    "\n",
    "        # * 求解方程组: 逐节增加锚链 -> 求解h的值 -> 判断是否有解  -> 继续增加锚链\n",
    "\n",
    "        for i in range(6, nMax+5):\n",
    "\n",
    "            # ! 增加锚链\n",
    "            self.Tcos.append( self.Tcos[i-1] )\n",
    "            self.Tsin.append( self.Tsin[i-1] - G[i] + F浮[i] )\n",
    "\n",
    "            # ! 计算phi角度\n",
    "            phi_i = self.phi(i)\n",
    "\n",
    "            # ! 计算各个物体的位移\n",
    "            self.dh.append(L[i] * np.sin(phi_i))\n",
    "\n",
    "        # ! 求和\n",
    "        dh_sum = sum(self.dh)\n",
    "        return dh_sum + h\n",
    "\n",
    "# ! 实例化\n",
    "H = HObject()\n"
   ]
  },
  {
   "cell_type": "code",
   "execution_count": 120,
   "metadata": {},
   "outputs": [
    {
     "data": {
      "image/png": "[encoded data removed]",
      "text/plain": [
       "<Figure size 640x480 with 1 Axes>"
      ]
     },
     "metadata": {},
     "output_type": "display_data"
    }
   ],
   "source": [
    "h = np.arange(0.4, 0.8, 0.001)\n",
    "\n",
    "HArray = np.zeros(len(h))\n",
    "\n",
    "for i in range(len(h)):\n",
    "    HArray[i] = H(h[i])\n",
    "\n",
    "\n",
    "plt.plot(h, HArray)\n",
    "plt.xlabel('h')\n",
    "plt.ylabel('H(h)')\n",
    "plt.show()"
   ]
  },
  {
   "cell_type": "code",
   "execution_count": 121,
   "metadata": {},
   "outputs": [],
   "source": [
    "# 保存数据为csv文件\n",
    "import pandas as pd\n",
    "import numpy as np\n",
    "\n",
    "# 定义数据\n",
    "data = {'h':h,'H':HArray}\n",
    "\n",
    "# 转换为DataFrame\n",
    "df = pd.DataFrame(data)\n",
    "\n",
    "# 保存为csv文件\n",
    "df.to_csv('../data/第一问数据.csv', index=False)"
   ]
  },
  {
   "cell_type": "code",
   "execution_count": 122,
   "metadata": {},
   "outputs": [
    {
     "name": "stdout",
     "output_type": "stream",
     "text": [
      "[0.70386952906847, 17.999999351576196]\n"
     ]
    }
   ],
   "source": [
    "# 二分查找法求解问题一模型\n",
    "\n",
    "import numpy as np\n",
    "import pandas as pd\n",
    "\n",
    "def binary_search(f:HObject, a, b,target, err=1e-6):\n",
    "    assert a <= b\n",
    "    mid = (a+b)/2\n",
    "    fmid = f(mid)\n",
    "    if abs(fmid-target) > err:\n",
    "        if fmid > target:\n",
    "            return binary_search(f, a, mid, target, err)\n",
    "        else:\n",
    "            return binary_search(f, mid, b, target, err)\n",
    "    else:\n",
    "        return [mid, fmid]\n",
    "\n",
    "ans = binary_search(H, 0, 2, target=18)\n",
    "# 保存结果\n",
    "print(ans)\n",
    "anscsv = pd.DataFrame({'h':[ans[0]], 'H':[ans[1]]})\n",
    "anscsv.to_csv('../data/第一问结果.csv', index=False)"
   ]
  },
  {
   "cell_type": "code",
   "execution_count": 123,
   "metadata": {},
   "outputs": [
    {
     "data": {
      "image/png": "[encoded data removed]",
      "text/plain": [
       "<Figure size 640x480 with 1 Axes>"
      ]
     },
     "metadata": {},
     "output_type": "display_data"
    }
   ],
   "source": [
    "\n",
    "    \n",
    "# * 实例化对象\n",
    "obj = HObject()\n",
    "\n",
    "# * 调用对象    \n",
    "obj(ans[0])\n",
    "dy = obj.dh[5:].copy()\n",
    "dy = dy[::-1]\n",
    "# dy = dy.map( lambda x: if x < 0: 0 else x )\n",
    "# dy = [0 if x < 0 else x for x in dy]\n",
    "y = np.cumsum(dy)\n",
    "\n",
    "dx = [L[i] * np.cos(obj.phi(i)) for i in range(5,nMax+5)][::-1]\n",
    "x = np.cumsum(dx)\n",
    "\n",
    "plt.plot(x, y)\n",
    "plt.axis('equal')\n",
    "plt.xlabel('x')\n",
    "plt.ylabel('y')\n",
    "plt.title(f\"风速为{v}m/s的锚链形状\")\n",
    "plt.show()"
   ]
  },
  {
   "cell_type": "code",
   "execution_count": 124,
   "metadata": {},
   "outputs": [
    {
     "name": "stdout",
     "output_type": "stream",
     "text": [
      "第1节钢管与竖直方向的夹角为4.3089度\n",
      "第2节钢管与竖直方向的夹角为4.3362度\n",
      "第3节钢管与竖直方向的夹角为4.3639度\n",
      "第4节钢管与竖直方向的夹角为4.3919度\n",
      "第5节钢管与竖直方向的夹角为4.5278度\n",
      "浮标的游动区域半径为15.4865\n",
      "最后一节锚链与水平方向的夹角为13.6425度\n"
     ]
    }
   ],
   "source": [
    "for i in range(5):\n",
    "    print(f\"第{i+1}节钢管与竖直方向的夹角为{90 - obj.phi(i) * (180 / pi) :.4f}度\")\n",
    "print(f\"浮标的游动区域半径为{np.sum([L[i] * np.cos(obj.phi(i)) for i in range(nMax+5)]):.4f}\")\n",
    "\n",
    "print(f\"最后一节锚链与水平方向的夹角为{obj.phi(nMax+4) * (180 / pi) :.4f}度\")"
   ]
  }
 ],
 "metadata": {
  "kernelspec": {
   "display_name": "jianmo",
   "language": "python",
   "name": "python3"
  },
  "language_info": {
   "codemirror_mode": {
    "name": "ipython",
    "version": 3
   },
   "file_extension": ".py",
   "mimetype": "text/x-python",
   "name": "python",
   "nbconvert_exporter": "python",
   "pygments_lexer": "ipython3",
   "version": "3.10.14"
  }
 },
 "nbformat": 4,
 "nbformat_minor": 2
}
